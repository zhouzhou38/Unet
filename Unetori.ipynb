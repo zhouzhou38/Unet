{
 "cells": [
  {
   "cell_type": "code",
   "execution_count": 3,
   "id": "initial_id",
   "metadata": {
    "collapsed": true,
    "ExecuteTime": {
     "end_time": "2023-11-04T21:41:37.130795300Z",
     "start_time": "2023-11-04T21:41:37.112790600Z"
    }
   },
   "outputs": [],
   "source": [
    "import torch\n",
    "import torch.nn as nn"
   ]
  },
  {
   "cell_type": "code",
   "execution_count": 18,
   "outputs": [
    {
     "name": "stdout",
     "output_type": "stream",
     "text": [
      "torch.Size([1, 2, 388, 388])\n",
      "tensor([[[[ 0.0689,  0.0713,  0.0713,  ...,  0.0740,  0.0676,  0.0647],\n",
      "          [ 0.0697,  0.0710,  0.0721,  ...,  0.0656,  0.0722,  0.0654],\n",
      "          [ 0.0716,  0.0629,  0.0675,  ...,  0.0755,  0.0662,  0.0702],\n",
      "          ...,\n",
      "          [ 0.0650,  0.0674,  0.0686,  ...,  0.0706,  0.0666,  0.0743],\n",
      "          [ 0.0750,  0.0657,  0.0680,  ...,  0.0691,  0.0713,  0.0701],\n",
      "          [ 0.0694,  0.0733,  0.0671,  ...,  0.0674,  0.0710,  0.0644]],\n",
      "\n",
      "         [[-0.0279, -0.0254, -0.0221,  ..., -0.0255, -0.0251, -0.0267],\n",
      "          [-0.0203, -0.0255, -0.0228,  ..., -0.0257, -0.0231, -0.0233],\n",
      "          [-0.0209, -0.0317, -0.0203,  ..., -0.0226, -0.0298, -0.0222],\n",
      "          ...,\n",
      "          [-0.0243, -0.0253, -0.0236,  ..., -0.0215, -0.0259, -0.0246],\n",
      "          [-0.0264, -0.0290, -0.0234,  ..., -0.0235, -0.0221, -0.0226],\n",
      "          [-0.0232, -0.0183, -0.0253,  ..., -0.0236, -0.0209, -0.0262]]]],\n",
      "       grad_fn=<ConvolutionBackward0>)\n"
     ]
    }
   ],
   "source": [
    "def double_conv(in_c,out_c):\n",
    "    conv = nn.Sequential(\n",
    "        nn.Conv2d(in_c,out_c,kernel_size=3),\n",
    "        nn.ReLU(inplace=True),\n",
    "        nn.Conv2d(out_c,out_c,kernel_size=3),\n",
    "        nn.ReLU(inplace=True)\n",
    "    )\n",
    "    \n",
    "    return conv\n",
    "\n",
    "def crop_img(tensor, target_tensor):\n",
    "    target_size = target_tensor.size()[2]\n",
    "    tensor_size = tensor.size()[2]\n",
    "    delta = tensor_size - target_size\n",
    "    delta = delta // 2\n",
    "    return tensor[:,:,delta:tensor_size - delta, delta:tensor_size - delta]\n",
    "    \n",
    "\n",
    "\n",
    "\n",
    "class UNet(nn.Module):\n",
    "    \n",
    "    def __init__(self):\n",
    "        super(UNet,self).__init__()\n",
    "        # encoder\n",
    "        self.max_pool_2 = nn.MaxPool2d(kernel_size=2,stride=2)\n",
    "        self.down_conv_1 = double_conv(1,64)\n",
    "        self.down_conv_2 = double_conv(64,128)\n",
    "        self.down_conv_3 = double_conv(128,256)\n",
    "        self.down_conv_4 = double_conv(256,512)\n",
    "        self.down_conv_5 = double_conv(512,1024)\n",
    "        \n",
    "        #decoder \n",
    "        self.up_trans_1 = nn.ConvTranspose2d(in_channels=1024,out_channels=512,kernel_size=2,stride=2)\n",
    "        self.up_conv_1 = double_conv(1024,512)\n",
    "        self.up_trans_2 = nn.ConvTranspose2d(in_channels=512,out_channels=256,kernel_size=2,stride=2)\n",
    "        self.up_conv_2 = double_conv(512,256)\n",
    "        self.up_trans_3 = nn.ConvTranspose2d(in_channels=256,out_channels=128,kernel_size=2,stride=2)\n",
    "        self.up_conv_3 = double_conv(256,128)\n",
    "        self.up_trans_4 = nn.ConvTranspose2d(in_channels=128,out_channels=64,kernel_size=2,stride=2)\n",
    "        self.up_conv_4 = double_conv(128,64)\n",
    "        self.out = nn.Conv2d(in_channels=64,out_channels=2,kernel_size=1)\n",
    "\n",
    "\n",
    "\n",
    "    def forward(self,image):\n",
    "        # encoder \n",
    "        x1 = self.down_conv_1(image) #\n",
    "        x2 = self.max_pool_2(x1)\n",
    "        x3 = self.down_conv_2(x2) # \n",
    "        x4 = self.max_pool_2(x3)\n",
    "        x5 = self.down_conv_3(x4) # \n",
    "        x6 = self.max_pool_2(x5)\n",
    "        x7 = self.down_conv_4(x6) # \n",
    "        x8 = self.max_pool_2(x7) \n",
    "        x9 = self.down_conv_5(x8) # \n",
    "        \n",
    "        x = self.up_trans_1(x9)\n",
    "        y = crop_img(x7,x)\n",
    "        x = self.up_conv_1(torch.cat([x,y],1))\n",
    "\n",
    "        x = self.up_trans_2(x)\n",
    "        y = crop_img(x5,x)\n",
    "        x = self.up_conv_2(torch.cat([x,y],1))\n",
    "\n",
    "        x = self.up_trans_3(x)\n",
    "        y = crop_img(x3,x)\n",
    "        x = self.up_conv_3(torch.cat([x,y],1))\n",
    "\n",
    "        x = self.up_trans_4(x)\n",
    "        y = crop_img(x1,x)\n",
    "        x = self.up_conv_4(torch.cat([x,y],1))\n",
    "        \n",
    "        x = self.out(x)\n",
    "        print(x.size())\n",
    "        return x\n",
    "    \n",
    "\n",
    "image = torch.rand((1,1,572,572))\n",
    "model = UNet()\n",
    "print(model(image))\n",
    "    "
   ],
   "metadata": {
    "collapsed": false,
    "ExecuteTime": {
     "end_time": "2023-11-04T23:04:45.990949300Z",
     "start_time": "2023-11-04T23:04:44.975012Z"
    }
   },
   "id": "12dd25e613106f17"
  }
 ],
 "metadata": {
  "kernelspec": {
   "display_name": "Python 3",
   "language": "python",
   "name": "python3"
  },
  "language_info": {
   "codemirror_mode": {
    "name": "ipython",
    "version": 2
   },
   "file_extension": ".py",
   "mimetype": "text/x-python",
   "name": "python",
   "nbconvert_exporter": "python",
   "pygments_lexer": "ipython2",
   "version": "2.7.6"
  }
 },
 "nbformat": 4,
 "nbformat_minor": 5
}
