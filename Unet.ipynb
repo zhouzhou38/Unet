{
 "cells": [
  {
   "cell_type": "code",
   "execution_count": 5,
   "id": "initial_id",
   "metadata": {
    "collapsed": true,
    "ExecuteTime": {
     "end_time": "2023-11-05T22:59:43.797618700Z",
     "start_time": "2023-11-05T22:59:43.776441100Z"
    }
   },
   "outputs": [],
   "source": [
    "import torch\n",
    "import torch.nn as nn\n",
    "import torchvision.transforms.functional as TF\n"
   ]
  },
  {
   "cell_type": "code",
   "execution_count": 9,
   "outputs": [
    {
     "name": "stdout",
     "output_type": "stream",
     "text": [
      "torch.Size([3, 1, 160, 160])\n",
      "torch.Size([3, 1, 160, 160])\n"
     ]
    }
   ],
   "source": [
    "class DoubleConv(nn.Module):\n",
    "    def __init__(self,in_channels,out_channels):\n",
    "        super(DoubleConv,self).__init__()\n",
    "        self.conv = nn.Sequential(\n",
    "            nn.Conv2d(in_channels,out_channels,3,1,1,bias=False),\n",
    "            nn.BatchNorm2d(out_channels),\n",
    "            nn.ReLU(inplace=True),\n",
    "            nn.Conv2d(out_channels,out_channels,3,1,1,bias=False),\n",
    "            nn.BatchNorm2d(out_channels),\n",
    "            nn.ReLU(inplace=True)\n",
    "        )\n",
    "        \n",
    "    def forward(self,x):\n",
    "        return self.conv(x)\n",
    "    \n",
    "    \n",
    "class UNet(nn.Module):\n",
    "    def __init__(self,in_channels=3, out_channels=1, features=[64,128,256,512]):\n",
    "        super(UNet, self).__init__()\n",
    "        self.ups = nn.ModuleList()\n",
    "        self.downs = nn.ModuleList()\n",
    "        self.pool = nn.MaxPool2d(kernel_size=2,stride=2)\n",
    "        \n",
    "        for feature in features:\n",
    "            self.downs.append(DoubleConv(in_channels,feature))\n",
    "            in_channels = feature\n",
    "        \n",
    "        for feature in reversed(features):\n",
    "            self.ups.append(\n",
    "                nn.ConvTranspose2d(\n",
    "                    feature*2, feature, kernel_size=2,stride=2\n",
    "                )\n",
    "            )\n",
    "            \n",
    "            self.ups.append(DoubleConv(feature*2, feature))\n",
    "            \n",
    "        self.bottleneck = DoubleConv(features[-1],features[-1]*2)\n",
    "        self.final_conv = nn.Conv2d(features[0],out_channels,kernel_size=1)\n",
    "    \n",
    "    def forward(self,x):\n",
    "        skip_connections = [] \n",
    "        for down in self.downs:\n",
    "            x = down(x)\n",
    "            skip_connections.append(x)\n",
    "            x = self.pool(x)\n",
    "            \n",
    "        x = self.bottleneck(x)\n",
    "        \n",
    "        skip_connections = skip_connections[::-1]\n",
    "        \n",
    "        for idx in range(0,len(self.ups),2):\n",
    "            \n",
    "            x = self.ups[idx](x)\n",
    "            skip_connection = skip_connections[idx // 2]\n",
    "            if x.shape != skip_connection.shape:\n",
    "                x = TF.resize(x,size=skip_connection.shape[2:])\n",
    "            concat_skip = torch.cat((skip_connection,x),dim=1)\n",
    "            x = self.ups[idx+1](concat_skip)\n",
    "        \n",
    "        return self.final_conv(x)\n",
    "\n",
    "x = torch.rand((3,1,160,160))\n",
    "model = UNet(in_channels=1,out_channels=1)\n",
    "preds = model(x)\n",
    "print(preds.shape)\n",
    "print(x.shape)\n",
    "\n",
    "assert preds.shape == x.shape"
   ],
   "metadata": {
    "collapsed": false,
    "ExecuteTime": {
     "end_time": "2023-11-05T23:02:31.266464900Z",
     "start_time": "2023-11-05T23:02:30.619854600Z"
    }
   },
   "id": "cd7d2b3d0c08d35e"
  }
 ],
 "metadata": {
  "kernelspec": {
   "display_name": "Python 3",
   "language": "python",
   "name": "python3"
  },
  "language_info": {
   "codemirror_mode": {
    "name": "ipython",
    "version": 2
   },
   "file_extension": ".py",
   "mimetype": "text/x-python",
   "name": "python",
   "nbconvert_exporter": "python",
   "pygments_lexer": "ipython2",
   "version": "2.7.6"
  }
 },
 "nbformat": 4,
 "nbformat_minor": 5
}
